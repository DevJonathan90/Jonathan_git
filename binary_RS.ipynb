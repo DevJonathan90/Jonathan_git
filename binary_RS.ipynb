{
 "cells": [
  {
   "cell_type": "code",
   "execution_count": 2,
   "metadata": {},
   "outputs": [],
   "source": [
    "from keras.models import Sequential\n",
    "from keras.layers import Dense\n",
    "from keras.optimizers import Adam\n",
    "import matplotlib.pyplot as plt\n",
    "import pandas as pd\n",
    "import numpy as np"
   ]
  },
  {
   "cell_type": "code",
   "execution_count": 4,
   "metadata": {},
   "outputs": [],
   "source": [
    "rs = pd.read_csv('D:\\\\python_data\\\\rain_sensor\\\\raw_data\\\\total_\\\\merge.csv')"
   ]
  },
  {
   "cell_type": "code",
   "execution_count": 5,
   "metadata": {},
   "outputs": [],
   "source": [
    "# NAN 데이터 Drop\n",
    "rs = rs.dropna()\n",
    "# m_total = m_total.dropna()\n"
   ]
  },
  {
   "cell_type": "code",
   "execution_count": 6,
   "metadata": {},
   "outputs": [
    {
     "name": "stdout",
     "output_type": "stream",
     "text": [
      "<class 'pandas.core.frame.DataFrame'>\n",
      "Int64Index: 4049288 entries, 0 to 4424033\n",
      "Data columns (total 9 columns):\n",
      "c1      float64\n",
      "c2      float64\n",
      "c3      float64\n",
      "c4      float64\n",
      "c5      float64\n",
      "c6      float64\n",
      "c7      float64\n",
      "c8      float64\n",
      "rain    int64\n",
      "dtypes: float64(8), int64(1)\n",
      "memory usage: 308.9 MB\n"
     ]
    }
   ],
   "source": [
    "rs.info()"
   ]
  },
  {
   "cell_type": "code",
   "execution_count": 7,
   "metadata": {},
   "outputs": [
    {
     "name": "stdout",
     "output_type": "stream",
     "text": [
      "            c1     c2     c3     c4     c5     c6     c7     c8  rain\n",
      "0        776.0  775.0  762.0  792.0  772.0  829.0  788.0  802.0    20\n",
      "1        772.0  773.0  764.0  798.0  768.0  829.0  780.0  800.0    20\n",
      "2        780.0  781.0  763.0  798.0  772.0  821.0  788.0  809.0    20\n",
      "3        775.0  782.0  762.0  797.0  777.0  828.0  783.0  806.0    20\n",
      "4        777.0  782.0  764.0  795.0  771.0  830.0  791.0  810.0    20\n",
      "5        777.0  778.0  776.0  795.0  771.0  836.0  791.0  804.0    20\n",
      "6        777.0  774.0  770.0  797.0  773.0  828.0  791.0  800.0    20\n",
      "7        781.0  776.0  772.0  799.0  775.0  830.0  791.0  798.0    20\n",
      "8        779.0  778.0  774.0  795.0  769.0  828.0  795.0  800.0    20\n",
      "9        775.0  778.0  768.0  801.0  775.0  828.0  791.0  804.0    20\n",
      "10       775.0  774.0  772.0  797.0  775.0  828.0  793.0  800.0    20\n",
      "11       773.0  778.0  772.0  805.0  775.0  830.0  795.0  804.0    20\n",
      "12       771.0  780.0  772.0  797.0  769.0  830.0  793.0  800.0    20\n",
      "13       767.0  777.0  768.0  797.0  771.0  830.0  791.0  802.0    20\n",
      "14       777.0  771.0  760.0  797.0  775.0  827.0  797.0  798.0    20\n",
      "15       779.0  781.0  766.0  795.0  773.0  827.0  792.0  798.0    20\n",
      "16       767.0  775.0  772.0  789.0  771.0  831.0  788.0  800.0    20\n",
      "17       769.0  773.0  768.0  797.0  775.0  829.0  780.0  801.0    20\n",
      "18       765.0  771.0  772.0  795.0  779.0  827.0  784.0  793.0    20\n",
      "19       770.0  765.0  764.0  803.0  773.0  825.0  788.0  799.0    20\n",
      "20       767.0  775.0  768.0  807.0  775.0  829.0  782.0  807.0    20\n",
      "21       763.0  775.0  772.0  797.0  777.0  833.0  787.0  807.0    20\n",
      "22       767.0  781.0  773.0  793.0  777.0  829.0  787.0  801.0    20\n",
      "23       775.0  773.0  773.0  795.0  771.0  827.0  793.0  801.0    20\n",
      "24       775.0  781.0  767.0  801.0  769.0  829.0  791.0  801.0    20\n",
      "25       771.0  775.0  771.0  797.0  771.0  829.0  795.0  797.0    20\n",
      "26       779.0  775.0  771.0  799.0  769.0  831.0  791.0  799.0    20\n",
      "27       765.0  773.0  773.0  803.0  771.0  831.0  792.0  801.0    20\n",
      "28       781.0  773.0  775.0  805.0  775.0  831.0  788.0  801.0    20\n",
      "29       779.0  779.0  765.0  797.0  773.0  827.0  792.0  801.0    20\n",
      "...        ...    ...    ...    ...    ...    ...    ...    ...   ...\n",
      "4421648  790.0  752.0  763.0  753.0  763.0  737.0  752.0  741.0    35\n",
      "4421649  782.0  748.0  771.0  753.0  767.0  731.0  750.0  749.0    35\n",
      "4421650  796.0  750.0  783.0  757.0  757.0  733.0  748.0  747.0    35\n",
      "4421651  790.0  740.0  773.0  757.0  761.0  729.0  750.0  749.0    35\n",
      "4421652  796.0  744.0  773.0  753.0  767.0  731.0  755.0  743.0    35\n",
      "4421653  794.0  744.0  773.0  753.0  757.0  727.0  753.0  741.0    35\n",
      "4421654  793.0  743.0  772.0  750.0  754.0  714.0  744.0  734.0    35\n",
      "4421655  776.0  747.0  774.0  750.0  754.0  724.0  746.0  742.0    35\n",
      "4421656  770.0  743.0  770.0  750.0  744.0  724.0  750.0  742.0    35\n",
      "4421657  764.0  739.0  764.0  746.0  742.0  728.0  758.0  728.0    35\n",
      "4421658  768.0  735.0  766.0  736.0  748.0  730.0  750.0  730.0    35\n",
      "4421659  766.0  739.0  768.0  726.0  742.0  726.0  744.0  724.0    35\n",
      "4421660  764.0  745.0  776.0  724.0  738.0  734.0  756.0  720.0    35\n",
      "4421661  753.0  745.0  770.0  720.0  740.0  732.0  748.0  724.0    35\n",
      "4421662  749.0  741.0  774.0  714.0  732.0  734.0  754.0  718.0    35\n",
      "4421663  751.0  741.0  778.0  710.0  736.0  734.0  748.0  714.0    35\n",
      "4421664  761.0  739.0  754.0  638.0  736.0  721.0  756.0  623.0    35\n",
      "4421665  690.0  715.0  763.0  674.0  665.0  650.0  763.0  745.0    35\n",
      "4421666  774.0  766.0  778.0  751.0  765.0  777.0  766.0  762.0    35\n",
      "4421667  793.0  788.0  788.0  769.0  779.0  785.0  764.0  774.0    35\n",
      "4421668  795.0  794.0  788.0  779.0  781.0  777.0  758.0  778.0    35\n",
      "4421669  801.0  806.0  800.0  785.0  773.0  785.0  769.0  778.0    35\n",
      "4421670  797.0  798.0  798.0  779.0  775.0  783.0  775.0  772.0    35\n",
      "4421671  797.0  798.0  800.0  783.0  777.0  781.0  777.0  767.0    35\n",
      "4421672  803.0  804.0  806.0  787.0  783.0  781.0  775.0  775.0    35\n",
      "4421673  803.0  804.0  802.0  785.0  775.0  785.0  775.0  773.0    35\n",
      "4421674  805.0  812.0  794.0  791.0  781.0  797.0  767.0  777.0    35\n",
      "4424031  779.0  781.0  778.0  811.0  769.0  831.0  787.0  803.0    35\n",
      "4424032  777.0  777.0  778.0  797.0  771.0  819.0  783.0  803.0    35\n",
      "4424033  767.0  779.0  776.0  799.0  763.0  829.0  791.0  803.0    35\n",
      "\n",
      "[4049288 rows x 9 columns]\n"
     ]
    }
   ],
   "source": [
    "print(rs)"
   ]
  },
  {
   "cell_type": "code",
   "execution_count": 8,
   "metadata": {},
   "outputs": [
    {
     "data": {
      "text/plain": [
       "array([20, 35], dtype=int64)"
      ]
     },
     "execution_count": 8,
     "metadata": {},
     "output_type": "execute_result"
    }
   ],
   "source": [
    "rs['rain'].unique()"
   ]
  },
  {
   "cell_type": "code",
   "execution_count": 100,
   "metadata": {},
   "outputs": [
    {
     "data": {
      "text/plain": [
       "array([[1, 0],\n",
       "       [1, 0],\n",
       "       [1, 0],\n",
       "       ...,\n",
       "       [0, 1],\n",
       "       [0, 1],\n",
       "       [0, 1]], dtype=uint8)"
      ]
     },
     "execution_count": 100,
     "metadata": {},
     "output_type": "execute_result"
    }
   ],
   "source": [
    "from sklearn.preprocessing import LabelEncoder\n",
    "X = rs.iloc[:,4:8].values\n",
    "y = rs.iloc[:,8].values\n",
    "\n",
    "encoder =  LabelEncoder()\n",
    "y1 = encoder.fit_transform(y)\n",
    "Y = pd.get_dummies(y1).values\n",
    "Y"
   ]
  },
  {
   "cell_type": "code",
   "execution_count": 101,
   "metadata": {},
   "outputs": [
    {
     "data": {
      "text/plain": [
       "array([[772., 829., 788., 802.],\n",
       "       [768., 829., 780., 800.],\n",
       "       [772., 821., 788., 809.],\n",
       "       ...,\n",
       "       [769., 831., 787., 803.],\n",
       "       [771., 819., 783., 803.],\n",
       "       [763., 829., 791., 803.]])"
      ]
     },
     "execution_count": 101,
     "metadata": {},
     "output_type": "execute_result"
    }
   ],
   "source": [
    "X"
   ]
  },
  {
   "cell_type": "code",
   "execution_count": 102,
   "metadata": {},
   "outputs": [
    {
     "data": {
      "text/plain": [
       "array([[1, 0],\n",
       "       [1, 0],\n",
       "       [1, 0],\n",
       "       ...,\n",
       "       [0, 1],\n",
       "       [0, 1],\n",
       "       [0, 1]], dtype=uint8)"
      ]
     },
     "execution_count": 102,
     "metadata": {},
     "output_type": "execute_result"
    }
   ],
   "source": [
    "Y"
   ]
  },
  {
   "cell_type": "code",
   "execution_count": 103,
   "metadata": {},
   "outputs": [
    {
     "data": {
      "text/plain": [
       "((3239430, 4), (809858, 4), (3239430, 2), (809858, 2))"
      ]
     },
     "execution_count": 103,
     "metadata": {},
     "output_type": "execute_result"
    }
   ],
   "source": [
    "from sklearn.model_selection import train_test_split\n",
    "X_train, X_test, y_train, y_test = train_test_split(X, Y, test_size=0.2, random_state=100000) \n",
    "X_train.shape, X_test.shape, y_train.shape, y_test.shape"
   ]
  },
  {
   "cell_type": "code",
   "execution_count": 131,
   "metadata": {},
   "outputs": [
    {
     "name": "stdout",
     "output_type": "stream",
     "text": [
      "_________________________________________________________________\n",
      "Layer (type)                 Output Shape              Param #   \n",
      "=================================================================\n",
      "dense_139 (Dense)            (None, 64)                320       \n",
      "_________________________________________________________________\n",
      "dense_140 (Dense)            (None, 64)                4160      \n",
      "_________________________________________________________________\n",
      "dense_141 (Dense)            (None, 2)                 130       \n",
      "=================================================================\n",
      "Total params: 4,610\n",
      "Trainable params: 4,610\n",
      "Non-trainable params: 0\n",
      "_________________________________________________________________\n"
     ]
    }
   ],
   "source": [
    "model = Sequential()\n",
    "\n",
    "model.add(Dense(64,input_shape=(4,),activation='sigmoid'))\n",
    "model.add(Dense(64,activation='relu'))\n",
    "model.add(Dense(2,activation='softmax'))\n",
    "\n",
    "model.compile(loss='categorical_crossentropy', \n",
    "              optimizer='Adam', \n",
    "              metrics=['accuracy'])\n",
    "\n",
    "model.summary()"
   ]
  },
  {
   "cell_type": "code",
   "execution_count": 138,
   "metadata": {},
   "outputs": [
    {
     "name": "stdout",
     "output_type": "stream",
     "text": [
      "Train on 3239430 samples, validate on 809858 samples\n",
      "Epoch 1/10\n",
      "3239430/3239430 [==============================] - 16s 5us/step - loss: 0.6236 - acc: 0.6610 - val_loss: 0.6190 - val_acc: 0.6644\n",
      "Epoch 2/10\n",
      "3239430/3239430 [==============================] - 16s 5us/step - loss: 0.6172 - acc: 0.6647 - val_loss: 0.6134 - val_acc: 0.6675\n",
      "Epoch 3/10\n",
      "3239430/3239430 [==============================] - 15s 5us/step - loss: 0.6120 - acc: 0.6669 - val_loss: 0.6092 - val_acc: 0.6688\n",
      "Epoch 4/10\n",
      "3239430/3239430 [==============================] - 15s 5us/step - loss: 0.6084 - acc: 0.6679 - val_loss: 0.6060 - val_acc: 0.6683\n",
      "Epoch 5/10\n",
      "3239430/3239430 [==============================] - 15s 5us/step - loss: 0.6059 - acc: 0.6689 - val_loss: 0.6037 - val_acc: 0.6714\n",
      "Epoch 6/10\n",
      "3239430/3239430 [==============================] - 18s 6us/step - loss: 0.6046 - acc: 0.6697 - val_loss: 0.6029 - val_acc: 0.6718\n",
      "Epoch 7/10\n",
      "3239430/3239430 [==============================] - 16s 5us/step - loss: 0.6027 - acc: 0.6709 - val_loss: 0.6010 - val_acc: 0.6724\n",
      "Epoch 8/10\n",
      "3239430/3239430 [==============================] - 16s 5us/step - loss: 0.6019 - acc: 0.6712 - val_loss: 0.6003 - val_acc: 0.6738\n",
      "Epoch 9/10\n",
      "3239430/3239430 [==============================] - 16s 5us/step - loss: 0.6004 - acc: 0.6724 - val_loss: 0.5989 - val_acc: 0.6742\n",
      "Epoch 10/10\n",
      "3239430/3239430 [==============================] - 17s 5us/step - loss: 0.5995 - acc: 0.6729 - val_loss: 0.5983 - val_acc: 0.6737\n"
     ]
    }
   ],
   "source": [
    "hist = model.fit(X_train, y_train, validation_data=(X_test, y_test), epochs=10, batch_size= 100000) #,batch_size= 200"
   ]
  },
  {
   "cell_type": "code",
   "execution_count": 142,
   "metadata": {},
   "outputs": [
    {
     "data": {
      "image/png": "[encoded data removed]",
      "text/plain": [
       "<Figure size 864x720 with 1 Axes>"
      ]
     },
     "metadata": {},
     "output_type": "display_data"
    }
   ],
   "source": [
    "import matplotlib.pyplot as plt\n",
    "%matplotlib inline\n",
    "\n",
    "plt.figure(figsize=(12,10))\n",
    "plt.plot(hist.history['loss'])\n",
    "plt.plot(hist.history['val_loss'])\n",
    "plt.plot(hist.history['acc'])\n",
    "plt.plot(hist.history['val_acc'])\n",
    "plt.legend(['loss','val_loss', 'acc','val_acc'])\n",
    "plt.grid()\n",
    "plt.show()"
   ]
  },
  {
   "cell_type": "code",
   "execution_count": 143,
   "metadata": {},
   "outputs": [
    {
     "name": "stdout",
     "output_type": "stream",
     "text": [
      "809858/809858 [==============================] - 17s 21us/step\n",
      "Accuracy = 0.67\n"
     ]
    }
   ],
   "source": [
    "loss, accuracy = model.evaluate(X_test, y_test)\n",
    "print(\"Accuracy = {:.2f}\".format(accuracy))"
   ]
  },
  {
   "cell_type": "code",
   "execution_count": 144,
   "metadata": {},
   "outputs": [
    {
     "name": "stdout",
     "output_type": "stream",
     "text": [
      "              precision    recall  f1-score   support\n",
      "\n",
      "           0       0.67      0.76      0.71    425268\n",
      "           1       0.69      0.58      0.63    384590\n",
      "\n",
      "   micro avg       0.67      0.67      0.67    809858\n",
      "   macro avg       0.68      0.67      0.67    809858\n",
      "weighted avg       0.68      0.67      0.67    809858\n",
      "\n",
      "[[322943 102325]\n",
      " [161936 222654]]\n"
     ]
    }
   ],
   "source": [
    "import numpy as np\n",
    "from sklearn.metrics import classification_report,confusion_matrix\n",
    "\n",
    "y_pred = model.predict(X_test)\n",
    "y_test_class = np.argmax(y_test,axis=1)\n",
    "y_pred_class = np.argmax(y_pred,axis=1)\n",
    "\n",
    "print(classification_report(y_test_class,y_pred_class))\n",
    "print(confusion_matrix(y_test_class,y_pred_class))"
   ]
  },
  {
   "cell_type": "code",
   "execution_count": 145,
   "metadata": {},
   "outputs": [
    {
     "name": "stdout",
     "output_type": "stream",
     "text": [
      "Predicted target name: [20]\n"
     ]
    }
   ],
   "source": [
    "test_set = np.array([[5, 2.9, 1, 0.2]])\n",
    "print(\"Predicted target name: {}\".format(\n",
    "    rs['rain'].unique()[model.predict_classes(test_set)]))"
   ]
  }
 ],
 "metadata": {
  "kernelspec": {
   "display_name": "Python [default]",
   "language": "python",
   "name": "python3"
  },
  "language_info": {
   "codemirror_mode": {
    "name": "ipython",
    "version": 3
   },
   "file_extension": ".py",
   "mimetype": "text/x-python",
   "name": "python",
   "nbconvert_exporter": "python",
   "pygments_lexer": "ipython3",
   "version": "3.6.6"
  }
 },
 "nbformat": 4,
 "nbformat_minor": 2
}
